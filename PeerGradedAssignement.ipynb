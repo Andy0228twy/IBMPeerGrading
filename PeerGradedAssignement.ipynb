{
 "cells": [
  {
   "cell_type": "markdown",
   "id": "ddf76b94-f118-4a7a-a6a0-5e39ca741fa5",
   "metadata": {},
   "source": [
    "# \"My Jupyter Notebook on IBM Watson Studio\""
   ]
  },
  {
   "cell_type": "markdown",
   "id": "2ddc2364-e34b-4821-be5c-ba228d12e3ff",
   "metadata": {},
   "source": [
    "**Andy Lee**  \n",
    "<br>\n",
    "Data scientist"
   ]
  },
  {
   "cell_type": "markdown",
   "id": "5f55e219-eab8-4b36-bf44-4750978884d8",
   "metadata": {},
   "source": [
    "*I am interested in data science because I am always excited to explore and keen on looking the meaning behind a data set. When I am studying statistic in high school and college I've gain the basic understanding of a data set using those statistical tool but that did not really full fill my enthusiasm toward the world, I believed that data science is a powerful tool for me to perceive the world.*"
   ]
  },
  {
   "cell_type": "markdown",
   "id": "b6386321-14de-4d78-b420-f44a48348f0a",
   "metadata": {},
   "source": [
    "### In cell 5, it shows a function that could perform summation on two integers"
   ]
  },
  {
   "cell_type": "code",
   "execution_count": 10,
   "id": "b2a20daf-303b-483a-8533-9b222379b7d0",
   "metadata": {},
   "outputs": [],
   "source": [
    "def total(a, b):\n",
    "    return a+b"
   ]
  },
  {
   "cell_type": "markdown",
   "id": "e22f7db6-3e44-4eaa-ba24-38a18d386997",
   "metadata": {},
   "source": [
    "<a href=\"https://youtu.be/x-33F36bQz0\">A list of songs</a> \n",
    "<br>\n",
    "~~This is a strikethrough~~\n",
    "<br>\n",
    "> To be is to be perceived (Block quote)"
   ]
  }
 ],
 "metadata": {
  "kernelspec": {
   "display_name": "Python",
   "language": "python",
   "name": "conda-env-python-py"
  },
  "language_info": {
   "codemirror_mode": {
    "name": "ipython",
    "version": 3
   },
   "file_extension": ".py",
   "mimetype": "text/x-python",
   "name": "python",
   "nbconvert_exporter": "python",
   "pygments_lexer": "ipython3",
   "version": "3.7.12"
  }
 },
 "nbformat": 4,
 "nbformat_minor": 5
}
