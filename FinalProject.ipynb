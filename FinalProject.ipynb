{
 "cells": [
  {
   "cell_type": "markdown",
   "id": "8130a5a7-5387-487d-a6a3-d1e46a6ca016",
   "metadata": {},
   "source": [
    "# Final Project"
   ]
  },
  {
   "cell_type": "markdown",
   "id": "8913c6d7-25a9-4ddb-9a95-adba204a47ec",
   "metadata": {},
   "source": [
    "## This is the final peer graded assignment from the course Tool for Data Science week4"
   ]
  },
  {
   "cell_type": "markdown",
   "id": "a0197267-ea3f-43f8-8ecb-dda151679635",
   "metadata": {},
   "source": [
    "#### In this cell I am going to list out three commonly use data science language\n",
    "1. Python\n",
    "2. R\n",
    "3. SQL"
   ]
  },
  {
   "cell_type": "markdown",
   "id": "406b6eee-74fb-4392-a7bf-610f5bdb1356",
   "metadata": {},
   "source": [
    "#### While this is the cell that list out three data science libraries\n",
    "1. Numpy\n",
    "2. Pandas\n",
    "3. Sklearn"
   ]
  },
  {
   "cell_type": "markdown",
   "id": "1519c454-3fc2-4758-99f2-19f0f247f6a8",
   "metadata": {},
   "source": [
    "|Data Science tools|\n",
    "|------------------|\n",
    "|IBM Watson Studio |\n",
    "|SPSS Modeler      |\n",
    "|SPSS Statistic    |"
   ]
  },
  {
   "cell_type": "markdown",
   "id": "9df3f45d-5a91-4a1e-84f1-b14fc2afe2d1",
   "metadata": {},
   "source": [
    "### Below is some arithmetic expression"
   ]
  },
  {
   "cell_type": "code",
   "execution_count": 3,
   "id": "0cf5f96a-cc43-4258-907a-bc49f04202f5",
   "metadata": {},
   "outputs": [
    {
     "data": {
      "text/plain": [
       "6"
      ]
     },
     "execution_count": 3,
     "metadata": {},
     "output_type": "execute_result"
    }
   ],
   "source": [
    "(1+1)*3"
   ]
  },
  {
   "cell_type": "code",
   "execution_count": 2,
   "id": "9940ed46-9c46-4f35-89b1-9d135576800d",
   "metadata": {},
   "outputs": [
    {
     "data": {
      "text/plain": [
       "17"
      ]
     },
     "execution_count": 2,
     "metadata": {},
     "output_type": "execute_result"
    }
   ],
   "source": [
    "(6*3)-1"
   ]
  },
  {
   "cell_type": "code",
   "execution_count": 2,
   "id": "53091af4-f0eb-4b0e-b0d2-64590894bacc",
   "metadata": {},
   "outputs": [
    {
     "name": "stdout",
     "output_type": "stream",
     "text": [
      "3.3133333333333335\n"
     ]
    }
   ],
   "source": [
    "def min_to_hour(mins):\n",
    "    # converting minute to hour by dviding mins by 60\n",
    "    return (mins/60)\n",
    "\n",
    "print(min_to_hour(198.8))"
   ]
  },
  {
   "cell_type": "markdown",
   "id": "b89bbfa3-c53f-49b5-9d98-d43301641633",
   "metadata": {},
   "source": [
    "__Objectives:__\n",
    "- Broaden my vision\n",
    "- Landed a job in DS\n",
    "- Getting distinguish in my degree"
   ]
  },
  {
   "cell_type": "markdown",
   "id": "deaace88-b677-4732-875b-dec9c4132e8d",
   "metadata": {},
   "source": [
    "## Author\n",
    "Andy lee"
   ]
  }
 ],
 "metadata": {
  "kernelspec": {
   "display_name": "Python",
   "language": "python",
   "name": "conda-env-python-py"
  },
  "language_info": {
   "codemirror_mode": {
    "name": "ipython",
    "version": 3
   },
   "file_extension": ".py",
   "mimetype": "text/x-python",
   "name": "python",
   "nbconvert_exporter": "python",
   "pygments_lexer": "ipython3",
   "version": "3.7.12"
  }
 },
 "nbformat": 4,
 "nbformat_minor": 5
}
